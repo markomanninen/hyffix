{
 "cells": [
  {
   "cell_type": "markdown",
   "metadata": {},
   "source": [
    "# Hyffix\n",
    "\n",
    "Prefix, infix, and postfix notation macros for [Hy](https://github.com/hylang/hy)\n",
    "\n",
    "## Requirements and installation\n",
    "\n",
    "### Jupyter and Hy\n",
    "\n",
    "A little bit work is required to get everything running on your local computer. First you need Jupyter Notebook and Calysto Hy kernel to interact with this document. Easy way to get Jupyter Notebook running is to use Anaconda package from Continuum: https://www.continuum.io/downloads. It will install Python language interpreter to your computer, which is also required.\n",
    "\n",
    "[Hy](http://docs.hylang.org/en/latest/index.html) language, which by the way is a cool Lisp syntax and feature set upon Python, you can get from: https://github.com/hylang/hy. Then follow Calysto Hy kernel installation instructions from their GitHub project page: https://github.com/Calysto/calysto_hy.\n",
    "\n",
    "After installation you should be ready to print environment information running this Hy code:"
   ]
  },
  {
   "cell_type": "code",
   "execution_count": 1,
   "metadata": {
    "collapsed": false
   },
   "outputs": [
    {
     "name": "stdout",
     "output_type": "stream",
     "text": [
      "Hy version:  0.12.1\n",
      "Python 3.5.2 |Anaconda custom (64-bit)| (default, Jul  5 2016, 11:41:13) [MSC v.1900 64 bit (AMD64)]\n"
     ]
    }
   ],
   "source": [
    "(import hy sys)\n",
    "(print \"Hy version: \" hy.__version__)\n",
    "(print \"Python\" sys.version)"
   ]
  },
  {
   "cell_type": "markdown",
   "metadata": {},
   "source": [
    "Hy version should be 0.12.1 and above. Python 3.5 or above. Code is not tested versions below those.\n",
    "\n",
    "Of course you can just set up Python and Hy without Jupyter notebook and Calysto Hy Kernel, but then you need to interact from console. I just recommend to use Jupyter because it makes prototyping, testing, and documentation so much easier, even fun to do!"
   ]
  },
  {
   "cell_type": "markdown",
   "metadata": {},
   "source": [
    "### Hyffix macros\n",
    "\n",
    "Finally to finnish installation you need to download hyffix macros from: https://github.com/markomanninen/hyffix to your project directory.\n",
    "\n",
    "Then require macros and import other functions and variables with the following code:"
   ]
  },
  {
   "cell_type": "code",
   "execution_count": 2,
   "metadata": {
    "collapsed": true
   },
   "outputs": [],
   "source": [
    "(require [hyffix.macros [*]])\n",
    "(import (hyffix.macros (*)))"
   ]
  },
  {
   "cell_type": "markdown",
   "metadata": {},
   "source": [
    "Then we are all set up and ready for interaction with given hyffix macros."
   ]
  },
  {
   "cell_type": "markdown",
   "metadata": {},
   "source": [
    "## Main macro: `deffix`\n",
    "\n",
    "Deffix -macro will find out if given formula is either in infix, postfix, or prefix format. Internally all affixes will be translated to the prefix format to meet Hy and Python language specification. Here the infix notation is used as an example at first.\n",
    "\n",
    "Deffix macro can be used in various ways. Arguments can be given with or without parentheses. Without parentheses example:"
   ]
  },
  {
   "cell_type": "code",
   "execution_count": 3,
   "metadata": {
    "collapsed": false
   },
   "outputs": [
    {
     "data": {
      "text/plain": [
       "9"
      ]
     },
     "execution_count": 3,
     "metadata": {},
     "output_type": "execute_result"
    }
   ],
   "source": [
    "(deffix 1 + 2 * 3) ; 9"
   ]
  },
  {
   "cell_type": "markdown",
   "metadata": {},
   "source": [
    "On the infix notation the order of evaluation starts from the left side of the formula by default. With parentheses the order of evaluation can be forced. Note how resulting value changes from 9 to 7:"
   ]
  },
  {
   "cell_type": "code",
   "execution_count": 4,
   "metadata": {
    "collapsed": false
   },
   "outputs": [
    {
     "data": {
      "text/plain": [
       "7"
      ]
     },
     "execution_count": 4,
     "metadata": {},
     "output_type": "execute_result"
    }
   ],
   "source": [
    "(deffix 1 + (2 * 3)) ; 7"
   ]
  },
  {
   "cell_type": "markdown",
   "metadata": {},
   "source": [
    "## Precedence macro: `defprecedence`\n",
    "\n",
    "To define the order of precedence one can use a specific macro called: `defprecedence`. To imitate the parenthesized formula without parentheses:"
   ]
  },
  {
   "cell_type": "code",
   "execution_count": 5,
   "metadata": {
    "collapsed": false
   },
   "outputs": [
    {
     "data": {
      "text/plain": [
       "7"
      ]
     },
     "execution_count": 5,
     "metadata": {},
     "output_type": "execute_result"
    }
   ],
   "source": [
    "(defprecedence * -)\n",
    "(deffix 1 + 2 * 3) ; 7"
   ]
  },
  {
   "cell_type": "markdown",
   "metadata": {},
   "source": [
    "One can reset the order precedence with an empty call: `(defprecedence)`\n",
    "\n",
    "On the prefix and the postfix notation the order of precedence is not applicable same way than on the infix notation. Instead the order is defined by parentheses:"
   ]
  },
  {
   "cell_type": "code",
   "execution_count": 6,
   "metadata": {
    "collapsed": false
   },
   "outputs": [
    {
     "data": {
      "text/plain": [
       "16"
      ]
     },
     "execution_count": 6,
     "metadata": {},
     "output_type": "execute_result"
    }
   ],
   "source": [
    "(deffix (* 2 2 (+ 2 2))) ; 16"
   ]
  },
  {
   "cell_type": "markdown",
   "metadata": {},
   "source": [
    "## Reader macro shorthand\n",
    "\n",
    "Hy language supports [shorthands](http://docs.hylang.org/en/latest/language/readermacros.html) for macros. Contra to deffix macro, one needs to use initial parentheses to make evaluation work right correctly. Reader macro implemented for deffix is $ which can be used something like:"
   ]
  },
  {
   "cell_type": "code",
   "execution_count": 7,
   "metadata": {
    "collapsed": false
   },
   "outputs": [
    {
     "data": {
      "text/plain": [
       "7"
      ]
     },
     "execution_count": 7,
     "metadata": {},
     "output_type": "execute_result"
    }
   ],
   "source": [
    "#$(1 + 2 * 3) ; = (deffix 1 + 2 * 3) = (deffix (1 + 2 * 3)) = 7"
   ]
  },
  {
   "cell_type": "markdown",
   "metadata": {},
   "source": [
    "*Note that answer here is 7 because we already defined the order of precedence earlier.*"
   ]
  },
  {
   "cell_type": "markdown",
   "metadata": {},
   "source": [
    "## Prefix, infix, and postfix mix\n",
    "\n",
    "It is possible to use any of the three affixes in the same formula as long as they are correctly separated by parentheses:"
   ]
  },
  {
   "cell_type": "code",
   "execution_count": 8,
   "metadata": {
    "collapsed": false
   },
   "outputs": [
    {
     "data": {
      "text/plain": [
       "6"
      ]
     },
     "execution_count": 8,
     "metadata": {},
     "output_type": "execute_result"
    }
   ],
   "source": [
    "#$(+ 1 1 (1 + 1 + (1 1 +))) ; 6"
   ]
  },
  {
   "cell_type": "markdown",
   "metadata": {},
   "source": [
    "## Multiple expressions\n",
    "\n",
    "Use useful way to evaluate many formulas is to use `deffix-n` macro. Each of the formulas needs to be inside parentheses along these lines:"
   ]
  },
  {
   "cell_type": "code",
   "execution_count": 9,
   "metadata": {
    "collapsed": false
   },
   "outputs": [
    {
     "data": {
      "text/plain": [
       "[1, 3, 5, 7]"
      ]
     },
     "execution_count": 9,
     "metadata": {},
     "output_type": "execute_result"
    }
   ],
   "source": [
    "(deffix-n (0 + 1) (1 + 2) (2 + 3) (3 + 4)) ; [1 3 5 7]"
   ]
  },
  {
   "cell_type": "markdown",
   "metadata": {},
   "source": [
    "\n",
    "## Custom operators\n",
    "\n",
    "All basic native math operations (`* / + - = != < <= > >=`) from Python core are supported by deffix without any custom configuration. For example these are valid expressions:"
   ]
  },
  {
   "cell_type": "code",
   "execution_count": 10,
   "metadata": {
    "collapsed": false
   },
   "outputs": [
    {
     "name": "stdout",
     "output_type": "stream",
     "text": [
      "-1.8\n",
      "[True, False]\n"
     ]
    }
   ],
   "source": [
    "(println\n",
    " (deffix 1 + 2 - 3 * 4 / 5) ; -1.8\n",
    " [(deffix (1 + 1) = 2) (deffix (1 + 1) != 2)] ; [True False] \n",
    ")"
   ]
  },
  {
   "cell_type": "markdown",
   "metadata": {},
   "source": [
    "Also builtin functions like: `abs divmod max min pow` and sequence types `range list tuple` are supported. Other builtin types might cause unexpected behaviour if they are not utilizing unary or binary expressions. Condider for example this kind of formula possible:"
   ]
  },
  {
   "cell_type": "code",
   "execution_count": 11,
   "metadata": {
    "collapsed": false
   },
   "outputs": [
    {
     "data": {
      "text/plain": [
       "True"
      ]
     },
     "execution_count": 11,
     "metadata": {},
     "output_type": "execute_result"
    }
   ],
   "source": [
    "(deffix (list (0 range 3)) = [0 1 2])"
   ]
  },
  {
   "cell_type": "markdown",
   "metadata": {
    "collapsed": false
   },
   "source": [
    "To define your own operators you can use `defoperator` macro. For example, custom modulo function as an operator:"
   ]
  },
  {
   "cell_type": "code",
   "execution_count": 12,
   "metadata": {
    "collapsed": false
   },
   "outputs": [
    {
     "data": {
      "text/plain": [
       "1"
      ]
     },
     "execution_count": 12,
     "metadata": {},
     "output_type": "execute_result"
    }
   ],
   "source": [
    "(defoperator mod [x y] (% x y))\n",
    "(deffix 3 mod 2) ; 1"
   ]
  },
  {
   "cell_type": "markdown",
   "metadata": {},
   "source": [
    "Basicly all operators with binary behaviour are good. So you can create a function that takes 1 or two arguments. Then the `deffix` macro will pass left and rigth side of the operator to the function. Here are few mroe examples:"
   ]
  },
  {
   "cell_type": "code",
   "execution_count": 13,
   "metadata": {
    "collapsed": false
   },
   "outputs": [
    {
     "data": {
      "text/plain": [
       "4"
      ]
     },
     "execution_count": 13,
     "metadata": {},
     "output_type": "execute_result"
    }
   ],
   "source": [
    "(defoperator op [&rest args] (sum args))\n",
    "(deffix 2 op 2) ; 4"
   ]
  },
  {
   "cell_type": "code",
   "execution_count": 14,
   "metadata": {
    "collapsed": false
   },
   "outputs": [
    {
     "data": {
      "text/plain": [
       "False"
      ]
     },
     "execution_count": 14,
     "metadata": {},
     "output_type": "execute_result"
    }
   ],
   "source": [
    "(defoperator and? [&rest args] (all args))\n",
    "(deffix 1 and? 1 and? 0) ; False"
   ]
  },
  {
   "cell_type": "code",
   "execution_count": 15,
   "metadata": {
    "collapsed": false
   },
   "outputs": [
    {
     "data": {
      "text/plain": [
       "8"
      ]
     },
     "execution_count": 15,
     "metadata": {},
     "output_type": "execute_result"
    }
   ],
   "source": [
    "(defoperator x^y [x y] (pow x y))\n",
    "(deffix 2 x^y 3) ; 8"
   ]
  },
  {
   "cell_type": "markdown",
   "metadata": {},
   "source": [
    "Note that if intended or not but providing only two arguments on these custom functions (`op`, `and?`) is possible. You can do for example:"
   ]
  },
  {
   "cell_type": "code",
   "execution_count": 16,
   "metadata": {
    "collapsed": false
   },
   "outputs": [
    {
     "name": "stdout",
     "output_type": "stream",
     "text": [
      "True\n",
      "False\n"
     ]
    }
   ],
   "source": [
    "(println\n",
    "  (deffix 1 and?)\n",
    "  (deffix and? 0)) ; True False"
   ]
  },
  {
   "cell_type": "markdown",
   "metadata": {},
   "source": [
    "## Custom operands\n",
    "\n",
    "Operands can be any numeric, boolean, or string value. To use a variable as an operand you need to initialize it with the `defoperand` macro:"
   ]
  },
  {
   "cell_type": "code",
   "execution_count": 17,
   "metadata": {
    "collapsed": false
   },
   "outputs": [
    {
     "data": {
      "text/plain": [
       "({'x': 1, 'y': 2, 'z': 3},)"
      ]
     },
     "execution_count": 17,
     "metadata": {},
     "output_type": "execute_result"
    }
   ],
   "source": [
    "(defoperand x 1 y 2 z 3)\n",
    "(, operands) ; ({'z': 3, 'x': 1, 'y': 2},)"
   ]
  },
  {
   "cell_type": "markdown",
   "metadata": {},
   "source": [
    "Then it is possible to use variables on a formula:"
   ]
  },
  {
   "cell_type": "code",
   "execution_count": 18,
   "metadata": {
    "collapsed": false
   },
   "outputs": [
    {
     "data": {
      "text/plain": [
       "-0.6666666666666665"
      ]
     },
     "execution_count": 18,
     "metadata": {},
     "output_type": "execute_result"
    }
   ],
   "source": [
    "(deffix 1 - (x + (* y (z /)))) ; -0.6666666666666665"
   ]
  },
  {
   "cell_type": "markdown",
   "metadata": {},
   "source": [
    "If an undefined operand or operator is used on a formula, system will raise a `NameError` exception:"
   ]
  },
  {
   "cell_type": "code",
   "execution_count": 19,
   "metadata": {
    "collapsed": false
   },
   "outputs": [
    {
     "name": "stdout",
     "output_type": "stream",
     "text": [
      "name '1+1' is not defined\n"
     ]
    }
   ],
   "source": [
    "(try \n",
    " (eval '(deffix 1+1))\n",
    " (except [e [Exception]]\n",
    "    (print e)))"
   ]
  },
  {
   "cell_type": "markdown",
   "metadata": {},
   "source": [
    "One more complex function that calculates a triangular number value is given here:"
   ]
  },
  {
   "cell_type": "code",
   "execution_count": 20,
   "metadata": {
    "collapsed": false
   },
   "outputs": [
    {
     "data": {
      "text/plain": [
       "55"
      ]
     },
     "execution_count": 20,
     "metadata": {},
     "output_type": "execute_result"
    }
   ],
   "source": [
    "(require [hy.contrib.loop [loop]])\n",
    "\n",
    "; triangular number function\n",
    "; if start is 1 and limit is 4, then result is 1 + 2 + 3 + 4 = 10\n",
    "; https://en.wikipedia.org/wiki/Triangular_number\n",
    "(defoperator Tn [limit &optional [start 1]]\n",
    "  (loop [[result start] [start start] [limit limit]]\n",
    "    (if (< start limit)\n",
    "        (recur (+ result (inc start)) (inc start) limit)\n",
    "        result)))\n",
    "\n",
    "(deffix 4 Tn 1 Tn 1) ; 55"
   ]
  },
  {
   "cell_type": "markdown",
   "metadata": {},
   "source": [
    "To find out more extensive way of using the [hyffix](https://github.com/markomanninen/hyffix) module, please see [hylogic](https://github.com/markomanninen/hylogic) module on GitHub."
   ]
  },
  {
   "cell_type": "markdown",
   "metadata": {},
   "source": [
    "### The [MIT](https://choosealicense.com/licenses/mit/) License\n",
    "\n",
    "Copyright © 2017 Marko Manninen"
   ]
  }
 ],
 "metadata": {
  "anaconda-cloud": {},
  "kernelspec": {
   "display_name": "Calysto Hy",
   "language": "hy",
   "name": "calysto_hy"
  },
  "language_info": {
   "codemirror_mode": {
    "name": "scheme"
   },
   "mimetype": "text/x-hylang",
   "name": "hy",
   "pygments_lexer": "lisp"
  }
 },
 "nbformat": 4,
 "nbformat_minor": 1
}
