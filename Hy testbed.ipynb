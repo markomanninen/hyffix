{
 "cells": [
  {
   "cell_type": "markdown",
   "metadata": {},
   "source": [
    "# Hyffix on testbed\n",
    "\n",
    "You need to load hyffix IPython extension to activate `hylang`, `deffix`, and `runtests` magics.\n",
    "\n",
    "`%hylang` / `%%hylang` magics are used for evaluating Hy code inside the Jupyter Notebook cell. `%hylang` refers to a single line magic, `%%hylang` to a multiline magic.        \n",
    "\n",
    "`%deffix` / `%%deffix` magics are similar to `hylang` macros, but they will also import `deffix` macros which can be used to handle infix, prefix, and postfix notated Hy code. You could do same with `%%hylang` and then using require and import to load hyffix library.\n",
    "\n",
    "`%runtests` magic collects all `test_` prefixed functions from namespace and then runs functions assuming that they contain test assertions. Tests can be written in Python or in Hy because functions on both languages are collected from the very same Jupyter Notebook user namespace."
   ]
  },
  {
   "cell_type": "code",
   "execution_count": 1,
   "metadata": {
    "collapsed": false
   },
   "outputs": [],
   "source": [
    "%load_ext hyffix"
   ]
  },
  {
   "cell_type": "markdown",
   "metadata": {},
   "source": [
    "Let us test a simple assertion inside a test function, first in Python and then in Hy:"
   ]
  },
  {
   "cell_type": "code",
   "execution_count": 2,
   "metadata": {
    "collapsed": false
   },
   "outputs": [],
   "source": [
    "def test_this_is_a_python_test_function():\n",
    "  \"this is a Python test function\"\n",
    "  assert 1 == 0"
   ]
  },
  {
   "cell_type": "code",
   "execution_count": 3,
   "metadata": {
    "collapsed": true
   },
   "outputs": [],
   "source": [
    "%%hylang\n",
    "(defn test_this_is_a_hy_test_function []\n",
    "  \"this is a Hy test function\"\n",
    "  (assert (= 1 1)))"
   ]
  },
  {
   "cell_type": "code",
   "execution_count": 4,
   "metadata": {
    "collapsed": false
   },
   "outputs": [
    {
     "data": {
      "text/html": [
       "<table class=\"data\"><caption>Collected 2 tests.\n",
       "</caption><colgroup><col/><col/></colgroup><thead><tr><th>Test function name</th><th>Status</th></tr></thead><tfoot><tr><td class=\"right\">Successful</td><td>1</td></tr><tr><td class=\"right\">Failed</td><td>1</td></tr><tr><td class=\"right\">Errors</td><td>0</td></tr><tr><td class=\"right\">Execution</td><td>0 seconds</td></tr></tfoot><tbody><tr class=\"failed\"><td>test_this_is_a_python_test_function</td><td>failed</td></tr><tr class=\"successful\"><td>test_this_is_a_hy_test_function</td><td>successful</td></tr></tbody><tbody><tr><th span=\"2\">Failed</th></tr></tbody><tbody class=\"failures\"><tr><td>test_this_is_a_python_test_function</td><td>AssertionError()</td></tr></tbody></table>"
      ],
      "text/plain": [
       "<IPython.core.display.HTML object>"
      ]
     },
     "execution_count": 4,
     "metadata": {},
     "output_type": "execute_result"
    }
   ],
   "source": [
    "%runtests"
   ]
  },
  {
   "cell_type": "markdown",
   "metadata": {},
   "source": [
    "Next we want to try some Hy code with deffix macros support:"
   ]
  },
  {
   "cell_type": "code",
   "execution_count": 5,
   "metadata": {
    "collapsed": false
   },
   "outputs": [],
   "source": [
    "%%deffix\n",
    "\n",
    "(defmacro defassert [a f b]\n",
    "  `(assert (~f ~a ~b)))\n",
    "\n",
    "(defn test_assert []\n",
    "  \"Test assert\"\n",
    "  (defassert (deffix (1 + 1)) = (+ 1 2)))"
   ]
  },
  {
   "cell_type": "code",
   "execution_count": 6,
   "metadata": {
    "collapsed": false
   },
   "outputs": [
    {
     "data": {
      "text/html": [
       "<table class=\"data\"><caption>Collected 1 tests.\n",
       "</caption><colgroup><col/><col/></colgroup><thead><tr><th>Test function name</th><th>Status</th></tr></thead><tfoot><tr><td class=\"right\">Successful</td><td>0</td></tr><tr><td class=\"right\">Failed</td><td>1</td></tr><tr><td class=\"right\">Errors</td><td>0</td></tr><tr><td class=\"right\">Execution</td><td>0 seconds</td></tr></tfoot><tbody><tr class=\"failed\"><td>test_assert</td><td>failed</td></tr></tbody><tbody><tr><th span=\"2\">Failed</th></tr></tbody><tbody class=\"failures\"><tr><td>test_assert</td><td>AssertionError()</td></tr></tbody></table>"
      ],
      "text/plain": [
       "<IPython.core.display.HTML object>"
      ]
     },
     "execution_count": 6,
     "metadata": {},
     "output_type": "execute_result"
    }
   ],
   "source": [
    "%runtests newonly"
   ]
  },
  {
   "cell_type": "markdown",
   "metadata": {},
   "source": [
    "## Archimedes tests"
   ]
  },
  {
   "cell_type": "markdown",
   "metadata": {},
   "source": [
    "Finally I have installed [Archimedes](https://github.com/tuturto/archimedes) test suite and [Hamcrest](https://pypi.python.org/pypi/PyHamcrest) with `$ pip install libarchimedes pyhamcrest`. Then I'm ready to run these example tests from the Archimedes [readme](https://github.com/tuturto/archimedes/blob/master/README.rst) file:"
   ]
  },
  {
   "cell_type": "code",
   "execution_count": 7,
   "metadata": {
    "collapsed": false
   },
   "outputs": [
    {
     "name": "stdout",
     "output_type": "stream",
     "text": [
      "Ok: this is executed immediately\n"
     ]
    }
   ],
   "source": [
    "%%hylang\n",
    "\n",
    ";# pip install libarchimedes\n",
    ";# pip install pyhamcrest\n",
    "(require [archimedes [background fact check defmatcher attribute-matcher\n",
    "                      assert-macro-error assert-error assert-right\n",
    "                      with-background]])\n",
    "\n",
    "(import [hypothesis.strategies [integers]]\n",
    "        [hamcrest [assert-that]]\n",
    "        [math [pow]])\n",
    "\n",
    "(fact \"true is always true\"\n",
    "      (assert True))\n",
    "\n",
    "(background some-numbers\n",
    "      a 3\n",
    "      b 4\n",
    "      c 5)\n",
    "\n",
    "(fact \"Pythagorean theorem holds in this specific case\"\n",
    "      (with-background some-numbers [a b c]\n",
    "        (assert (= (+ (pow a 2) (pow b 2)) (pow c 2)))))\n",
    "\n",
    "(fact \"sum of two positive numbers is larger than either one of them\"\n",
    "      (variants :a (integers :min-value 1)\n",
    "                :b (integers :min-value 1))\n",
    "      (assert (> (+ a b) a))\n",
    "      (assert (> (+ a b) b)))\n",
    "\n",
    "(fact \"example can clarify things\"\n",
    "      (variants :a (integers :min-value 0 :max-value 10)\n",
    "                :b (integers :min-value 0 :max-value 10))\n",
    "      (sample :a 0 :b 0)\n",
    "      (assert (<= 0 (+ a b) 20)))\n",
    "\n",
    "(fact \"profile controls test settings\"\n",
    "      (variants :a (integers :min-value 0))\n",
    "      (profile :max-examples 500)\n",
    "      (assert (<= 0 a)))\n",
    "\n",
    "(fact \"macro errors can be asserted\"\n",
    "      (assert-macro-error \"cond branches need to be a list\"\n",
    "                          (cond (= 1 1) True)))\n",
    "\n",
    "(fact \"even fact can be asserted for macro errors\"\n",
    "      (assert-macro-error \"too many variants forms\"\n",
    "                          (fact \"I'm incorrect\"\n",
    "                                (variants :a (integers))\n",
    "                                (variants :a (integers))\n",
    "                                (assert (= a a)))))\n",
    "\n",
    "(fact \"errors can be asserted\"\n",
    "      (assert-error \"error\"\n",
    "                    (raise (ValueError \"error\"))))\n",
    "\n",
    "(check \"this is executed immediately\"\n",
    "       (assert (= 1 1)))\n",
    "\n",
    "(defmatcher is-zero? []\n",
    "            :match? (= item 0)\n",
    "            :match! \"a zero\"\n",
    "            :no-match! (.format \"was a value of {0}\" item))\n",
    "\n",
    "(assert-that 0 (is-zero?))\n",
    "\n",
    "(attribute-matcher item-with-length?\n",
    "                   len =\n",
    "                   \"an item with length {0}\"\n",
    "                   \"was an item with length {0}\")\n",
    "\n",
    ";(assert-that \"foo\" (is- (item-with-length? 3)))"
   ]
  },
  {
   "cell_type": "code",
   "execution_count": 8,
   "metadata": {
    "collapsed": false
   },
   "outputs": [
    {
     "data": {
      "text/html": [
       "<table class=\"data\"><caption>Collected 9 tests.\n",
       "</caption><colgroup><col/><col/></colgroup><thead><tr><th>Test function name</th><th>Status</th></tr></thead><tfoot><tr><td class=\"right\">Successful</td><td>8</td></tr><tr><td class=\"right\">Failed</td><td>1</td></tr><tr><td class=\"right\">Errors</td><td>0</td></tr><tr><td class=\"right\">Execution</td><td>0.5589 seconds</td></tr></tfoot><tbody><tr class=\"successful\"><td>test_errors_can_be_asserted</td><td>successful</td></tr><tr class=\"successful\"><td>test_profile_controls_test_settings</td><td>successful</td></tr><tr class=\"successful\"><td>test_macro_errors_can_be_asserted</td><td>successful</td></tr><tr class=\"successful\"><td>test_sum_of_two_positive_numbers_is_larger_than_either_one_of_them</td><td>successful</td></tr><tr class=\"successful\"><td>test_true_is_always_true</td><td>successful</td></tr><tr class=\"successful\"><td>test_example_can_clarify_things</td><td>successful</td></tr><tr class=\"failed\"><td>test_even_fact_can_be_asserted_for_macro_errors</td><td>failed</td></tr><tr class=\"successful\"><td>test_Pythagorean_theorem_holds_in_this_specific_case</td><td>successful</td></tr><tr class=\"successful\"><td>test_this_is_executed_immediately</td><td>successful</td></tr></tbody><tbody><tr><th span=\"2\">Failed</th></tr></tbody><tbody class=\"failures\"><tr><td>test_even_fact_can_be_asserted_for_macro_errors</td><td>AssertionError('no exception raised',)</td></tr></tbody></table>"
      ],
      "text/plain": [
       "<IPython.core.display.HTML object>"
      ]
     },
     "execution_count": 8,
     "metadata": {},
     "output_type": "execute_result"
    }
   ],
   "source": [
    "%runtests newonly"
   ]
  },
  {
   "cell_type": "code",
   "execution_count": 9,
   "metadata": {
    "collapsed": false
   },
   "outputs": [
    {
     "data": {
      "text/html": [
       "<style>/**\n",
       " * Copyright: Marko Manninen, 04/2016 (https://www.github.com/markomanninen)\n",
       " */\n",
       ".rendered_html table,\n",
       ".rendered_html tr,\n",
       ".rendered_html th,\n",
       ".rendered_html td {\n",
       "    border: 0\n",
       "}\n",
       "\n",
       "table.data {\n",
       "    color: black;\n",
       "    border: 0;\n",
       "\tmargin: 1.5em auto;\n",
       "\tborder-bottom: 1px solid #999;\n",
       "\tborder-collapse: collapse;\n",
       "\t-webkit-border-top-left-radius: 8px;\n",
       "\t-webkit-border-top-right-radius: 8px;\n",
       "\t-moz-border-radius: 8px 8px 0 0;\n",
       "\tborder-radius: 8px 8px 0 0;\n",
       "\tbackground: #444;\n",
       "}\n",
       "table.data caption {\n",
       "    margin-bottom: .75em;\n",
       "    text-align: center;\n",
       "\tfont-style: italic;\n",
       "}\n",
       "table.data td {\n",
       "\t-moz-transition: background 0.2s linear;\n",
       "\t-o-transition: background 0.2s linear;\n",
       "\ttransition: background 0.2s linear;\n",
       "\twhite-space: nowrap;\n",
       "\tborder-top: 1px solid #eee;\n",
       "\tborder-left: 1px solid #eee;\n",
       "\tpadding: 0.4em 0.8em;\n",
       "\tbackground: #fff;\n",
       "}\n",
       "table.data tfoot,\n",
       "table.data tbody {\n",
       "    outline-offset: -1px;\n",
       "    outline: 1px solid #ccc;\n",
       "}\n",
       "\n",
       "table.data thead {}\n",
       "table.data thead th {\n",
       "\tborder: none;\n",
       "    border-bottom: 2px solid #eee;\n",
       "\tbackground: transparent;\n",
       "\tcolor: #fff;\n",
       "\ttext-align: center;\n",
       "\tcursor: pointer;\n",
       "    padding: 0.4em 0.8em;\n",
       "}\n",
       "\n",
       "table.data tbody {}\n",
       "table.data tbody tr:hover td {\n",
       "\tbackground: #ffe;\n",
       "    color: black;\n",
       "}\n",
       "table.data tbody tr td:hover {\n",
       "\tbackground: #f5f6d2;\n",
       "}\n",
       "table.data tbody tr td:last-child {\n",
       "\ttext-align: center\n",
       "}\n",
       "\n",
       "table.data tbody tr th {\n",
       "\tcolor: white;\n",
       "    padding: 0.4em 0.8em;\n",
       "    text-transform: uppercase\n",
       "}\n",
       "\n",
       "\n",
       "table.data tfoot {}\n",
       "table.data tfoot td {\n",
       "    padding: 0.4em 0.8em;\n",
       "\ttext-align: center;\n",
       "\tfont-style: italic;\n",
       "}\n",
       "\n",
       "table.data .right {\n",
       "    text-align: right\n",
       "}\n",
       "\n",
       "table.data tr.ok td {background-color: white;}\n",
       "table.data tr.failed td {background-color: red; color: white}\n",
       "table.data tr.error td {background-color: lightpink}\n",
       "table.data tbody.failures {}\n",
       "table.data tbody.errors {}\n",
       "</style>"
      ],
      "text/plain": [
       "<IPython.core.display.HTML object>"
      ]
     },
     "execution_count": 9,
     "metadata": {},
     "output_type": "execute_result"
    }
   ],
   "source": [
    "from IPython.core.display import HTML\n",
    "with open('ipynbtester_style.css') as f:\n",
    "    css = f.read()\n",
    "HTML('<style>%s</style>' % css)"
   ]
  },
  {
   "cell_type": "markdown",
   "metadata": {},
   "source": [
    "## The [MIT](http://choosealicense.com/licenses/mit/) License\n",
    "\n",
    "Copyright (c) 2017 Marko Manninen"
   ]
  }
 ],
 "metadata": {
  "kernelspec": {
   "display_name": "Python [conda root]",
   "language": "python",
   "name": "conda-root-py"
  },
  "language_info": {
   "codemirror_mode": {
    "name": "ipython",
    "version": 3
   },
   "file_extension": ".py",
   "mimetype": "text/x-python",
   "name": "python",
   "nbconvert_exporter": "python",
   "pygments_lexer": "ipython3",
   "version": "3.5.2"
  }
 },
 "nbformat": 4,
 "nbformat_minor": 1
}
